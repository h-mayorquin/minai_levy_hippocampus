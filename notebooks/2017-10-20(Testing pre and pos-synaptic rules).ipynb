{
 "cells": [
  {
   "cell_type": "markdown",
   "metadata": {},
   "source": [
    "# Testing pre andpost-synaptic rule\n",
    "This notebook is meant as function test for the learning rules"
   ]
  },
  {
   "cell_type": "code",
   "execution_count": 14,
   "metadata": {
    "collapsed": true
   },
   "outputs": [],
   "source": [
    "def pre_synaptic_simple(epsilon, w, z_post, z_pre):\n",
    "    increase = np.zeros_like(w)\n",
    "    \n",
    "    n = w.shape[0]\n",
    "    for i in range(n):\n",
    "        for j in range(n):\n",
    "            increase[i, j] = z_pre[j] * z_post[i] - z_pre[j] * w[i, j]\n",
    "    \n",
    "    return epsilon * increase\n",
    "\n",
    "def post_synaptic_simple(epsilon, w, z_post, z_pre):\n",
    "    increase = np.zeros_like(w)\n",
    "    \n",
    "    n = w.shape[0]\n",
    "    for i in range(n):\n",
    "        for j in range(n):\n",
    "            increase[i, j] = z_post[i] * z_pre[j] - z_post[i] * w[i, j]\n",
    "            \n",
    "    return epsilon * increase\n",
    "\n",
    "def pre_synaptic(epsilon, w, z_post, z_pre):\n",
    "    \n",
    "    return epsilon * (np.outer(z_post, z_pre) - w * z_pre)\n",
    "\n",
    "def post_synaptic(epsilon, w, z_post, z_pre):\n",
    "\n",
    "    return epsilon * (np.outer(z_pre, z_post) - z_post * w).T"
   ]
  },
  {
   "cell_type": "markdown",
   "metadata": {},
   "source": [
    "## Post-synaptic"
   ]
  },
  {
   "cell_type": "code",
   "execution_count": 15,
   "metadata": {},
   "outputs": [
    {
     "name": "stdout",
     "output_type": "stream",
     "text": [
      "aux1 [[ 0.5  0.5  0.5]\n",
      " [ 0.5  0.5  0.5]\n",
      " [ 0.5  0.5  0.5]]\n",
      "aux2 [[ 0.5  0.5  0.5]\n",
      " [ 0.5  0.5  0.5]\n",
      " [ 0.5  0.5  0.5]]\n"
     ]
    }
   ],
   "source": [
    "dimension = 3\n",
    "z_pre = np.ones(dimension)\n",
    "w = np.zeros((dimension, dimension))\n",
    "z_post = np.ones(dimension)\n",
    "epsilon = 0.5\n",
    "\n",
    "aux1 = post_synaptic_simple(epsilon, w, z_post, z_pre)\n",
    "aux2 = post_synaptic(epsilon, w, z_post, z_pre)\n",
    "\n",
    "print('aux1', aux1)\n",
    "print('aux2', aux2)"
   ]
  },
  {
   "cell_type": "code",
   "execution_count": 16,
   "metadata": {},
   "outputs": [
    {
     "name": "stdout",
     "output_type": "stream",
     "text": [
      "aux1 [[ 0.  0.  0.]\n",
      " [ 0.  0.  0.]\n",
      " [ 0.  0.  0.]]\n",
      "aux2 [[ 0.  0.  0.]\n",
      " [ 0.  0.  0.]\n",
      " [ 0.  0.  0.]]\n"
     ]
    }
   ],
   "source": [
    "dimension = 3\n",
    "z_pre = np.ones(dimension)\n",
    "w = np.zeros((dimension, dimension))\n",
    "z_post = np.zeros(dimension)\n",
    "epsilon = 0.5\n",
    "\n",
    "aux1 = post_synaptic_simple(epsilon, w, z_post, z_pre)\n",
    "aux2 = post_synaptic(epsilon, w, z_post, z_pre)\n",
    "\n",
    "print('aux1', aux1)\n",
    "print('aux2', aux2)"
   ]
  },
  {
   "cell_type": "code",
   "execution_count": 17,
   "metadata": {},
   "outputs": [
    {
     "name": "stdout",
     "output_type": "stream",
     "text": [
      "aux1 [[ 0.   0.   0. ]\n",
      " [ 0.5  0.   0. ]\n",
      " [ 0.   0.   0. ]]\n",
      "aux2 [[ 0.   0.   0. ]\n",
      " [ 0.5  0.   0. ]\n",
      " [ 0.   0.   0. ]]\n"
     ]
    }
   ],
   "source": [
    "dimension = 3\n",
    "z_pre = np.zeros(dimension)\n",
    "z_pre[0] = 1\n",
    "w = np.zeros((dimension, dimension))\n",
    "z_post = np.zeros(dimension)\n",
    "z_post[1] = 1\n",
    "epsilon = 0.5\n",
    "\n",
    "aux1 = post_synaptic_simple(epsilon, w, z_post, z_pre)\n",
    "aux2 = post_synaptic(epsilon, w, z_post, z_pre)\n",
    "\n",
    "print('aux1', aux1)\n",
    "print('aux2', aux2)"
   ]
  },
  {
   "cell_type": "code",
   "execution_count": 18,
   "metadata": {},
   "outputs": [
    {
     "name": "stdout",
     "output_type": "stream",
     "text": [
      "aux1 [[ 0.   0.   0. ]\n",
      " [ 0.   0.   0. ]\n",
      " [ 0.5  0.   0. ]]\n",
      "aux2 [[ 0.   0.   0. ]\n",
      " [ 0.   0.   0. ]\n",
      " [ 0.5  0.   0. ]]\n"
     ]
    }
   ],
   "source": [
    "dimension = 3\n",
    "z_pre = np.zeros(dimension)\n",
    "z_pre[0] = 1\n",
    "w = np.zeros((dimension, dimension))\n",
    "z_post = np.zeros(dimension)\n",
    "z_post[2] = 1\n",
    "epsilon = 0.5\n",
    "\n",
    "aux1 = post_synaptic_simple(epsilon, w, z_post, z_pre)\n",
    "aux2 = post_synaptic(epsilon, w, z_post, z_pre)\n",
    "\n",
    "print('aux1', aux1)\n",
    "print('aux2', aux2)"
   ]
  },
  {
   "cell_type": "code",
   "execution_count": 29,
   "metadata": {},
   "outputs": [
    {
     "name": "stdout",
     "output_type": "stream",
     "text": [
      "aux1 [[ 0.   0.   0.   0.   0.   0.   0.   0.   0.   0. ]\n",
      " [ 0.   0.   0.   0.   0.   0.   0.   0.   0.   0. ]\n",
      " [ 0.   0.   0.   0.   0.   0.   0.   0.   0.   0. ]\n",
      " [ 0.   0.   0.   0.   0.   0.   0.   0.   0.   0. ]\n",
      " [ 0.   0.5  0.   0.   0.   0.   0.   0.   0.   0. ]\n",
      " [ 0.   0.   0.   0.   0.   0.   0.   0.   0.   0. ]\n",
      " [ 0.   0.   0.   0.   0.   0.   0.   0.   0.   0. ]\n",
      " [ 0.   0.   0.   0.   0.   0.   0.   0.   0.   0. ]\n",
      " [ 0.   0.   0.   0.   0.   0.   0.   0.   0.   0. ]\n",
      " [ 0.   0.   0.   0.   0.   0.   0.   0.   0.   0. ]]\n",
      "aux2 [[ 0.   0.   0.   0.   0.   0.   0.   0.   0.   0. ]\n",
      " [ 0.   0.   0.   0.   0.   0.   0.   0.   0.   0. ]\n",
      " [ 0.   0.   0.   0.   0.   0.   0.   0.   0.   0. ]\n",
      " [ 0.   0.   0.   0.   0.   0.   0.   0.   0.   0. ]\n",
      " [ 0.   0.5  0.   0.   0.   0.   0.   0.   0.   0. ]\n",
      " [ 0.   0.   0.   0.   0.   0.   0.   0.   0.   0. ]\n",
      " [ 0.   0.   0.   0.   0.   0.   0.   0.   0.   0. ]\n",
      " [ 0.   0.   0.   0.   0.   0.   0.   0.   0.   0. ]\n",
      " [ 0.   0.   0.   0.   0.   0.   0.   0.   0.   0. ]\n",
      " [ 0.   0.   0.   0.   0.   0.   0.   0.   0.   0. ]]\n"
     ]
    },
    {
     "data": {
      "text/plain": [
       "0.0"
      ]
     },
     "execution_count": 29,
     "metadata": {},
     "output_type": "execute_result"
    }
   ],
   "source": [
    "dimension = 10\n",
    "index_1 = np.random.randint(0, dimension)\n",
    "index_2 = np.random.randint(0, dimension)\n",
    "\n",
    "z_pre = np.zeros(dimension)\n",
    "z_pre[index_1] = 1\n",
    "w = np.zeros((dimension, dimension))\n",
    "z_post = np.zeros(dimension)\n",
    "z_post[index_2] = 1\n",
    "epsilon = 0.5\n",
    "\n",
    "aux1 = post_synaptic_simple(epsilon, w, z_post, z_pre)\n",
    "aux2 = post_synaptic(epsilon, w, z_post, z_pre)\n",
    "\n",
    "print('aux1', aux1)\n",
    "print('aux2', aux2)\n",
    "np.sum(aux1 - aux2)"
   ]
  },
  {
   "cell_type": "markdown",
   "metadata": {},
   "source": [
    "Let's test it systematically"
   ]
  },
  {
   "cell_type": "code",
   "execution_count": 31,
   "metadata": {},
   "outputs": [
    {
     "data": {
      "text/plain": [
       "0.0"
      ]
     },
     "execution_count": 31,
     "metadata": {},
     "output_type": "execute_result"
    }
   ],
   "source": [
    "errors = []\n",
    "for i in range(100):\n",
    "    dimension = 10\n",
    "    index_1 = np.random.randint(0, dimension)\n",
    "    index_2 = np.random.randint(0, dimension)\n",
    "\n",
    "    z_pre = np.zeros(dimension)\n",
    "    z_pre[index_1] = 1\n",
    "    w = np.zeros((dimension, dimension))\n",
    "    z_post = np.zeros(dimension)\n",
    "    z_post[index_2] = 1\n",
    "    epsilon = 0.5\n",
    "\n",
    "    aux1 = post_synaptic_simple(epsilon, w, z_post, z_pre)\n",
    "    aux2 = post_synaptic(epsilon, w, z_post, z_pre)\n",
    "\n",
    "    errors.append(np.sum(aux1 - aux2))\n",
    "\n",
    "np.sum(errors)\n",
    "    "
   ]
  },
  {
   "cell_type": "markdown",
   "metadata": {},
   "source": [
    "## Test the pre-synaptic rule"
   ]
  },
  {
   "cell_type": "code",
   "execution_count": 32,
   "metadata": {},
   "outputs": [
    {
     "data": {
      "text/plain": [
       "0.0"
      ]
     },
     "execution_count": 32,
     "metadata": {},
     "output_type": "execute_result"
    }
   ],
   "source": [
    "errors = []\n",
    "for i in range(100):\n",
    "    dimension = 10\n",
    "    index_1 = np.random.randint(0, dimension)\n",
    "    index_2 = np.random.randint(0, dimension)\n",
    "\n",
    "    z_pre = np.zeros(dimension)\n",
    "    z_pre[index_1] = 1\n",
    "    w = np.zeros((dimension, dimension))\n",
    "    z_post = np.zeros(dimension)\n",
    "    z_post[index_2] = 1\n",
    "    epsilon = 0.5\n",
    "\n",
    "    aux1 = pre_synaptic_simple(epsilon, w, z_post, z_pre)\n",
    "    aux2 = pre_synaptic(epsilon, w, z_post, z_pre)\n",
    "\n",
    "    errors.append(np.sum(aux1 - aux2))\n",
    "\n",
    "np.sum(errors)\n",
    "    "
   ]
  },
  {
   "cell_type": "code",
   "execution_count": null,
   "metadata": {
    "collapsed": true
   },
   "outputs": [],
   "source": []
  }
 ],
 "metadata": {
  "kernelspec": {
   "display_name": "Python 3",
   "language": "python",
   "name": "python3"
  },
  "language_info": {
   "codemirror_mode": {
    "name": "ipython",
    "version": 3
   },
   "file_extension": ".py",
   "mimetype": "text/x-python",
   "name": "python",
   "nbconvert_exporter": "python",
   "pygments_lexer": "ipython3",
   "version": "3.6.2"
  }
 },
 "nbformat": 4,
 "nbformat_minor": 2
}
